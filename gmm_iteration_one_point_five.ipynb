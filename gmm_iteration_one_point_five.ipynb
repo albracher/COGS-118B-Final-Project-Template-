{
 "cells": [
  {
   "cell_type": "markdown",
   "metadata": {},
   "source": [
    "# COGS 118B - Final Project GMM testing"
   ]
  },
  {
   "cell_type": "markdown",
   "metadata": {},
   "source": [
    "# Insert title here\n",
    "\n",
    "## Group members\n",
    "\n",
    "- Allen Phu\n",
    "- Kevin Yu\n",
    "- Saksham Rai\n",
    "- Rodrigo Lizaran-Molina"
   ]
  },
  {
   "cell_type": "markdown",
   "metadata": {},
   "source": [
    "# Abstract \n",
    "This section should be short and clearly stated. It should be a single paragraph <200 words.  It should summarize: \n",
    "- what your goal/problem is\n",
    "- what the data used represents \n",
    "- the solution/what you did\n",
    "- major results you came up with (mention how results are measured) \n",
    "\n",
    "__NB:__ this final project form is much more report-like than the proposal and the checkpoint. Think in terms of writing a paper with bits of code in the middle to make the plots/tables"
   ]
  },
  {
   "cell_type": "markdown",
   "metadata": {},
   "source": [
    "# Background\n",
    "\n",
    "Fill in the background and discuss the kind of prior work that has gone on in this research area here. **Use inline citation** to specify which references support which statements.  You can do that through HTML footnotes (demonstrated here). I used to reccommend Markdown footnotes (google is your friend) because they are simpler but recently I have had some problems with them working for me whereas HTML ones always work so far. So use the method that works for you, but do use inline citations.\n",
    "\n",
    "Here is an example of inline citation. After government genocide in the 20th century, real birds were replaced with surveillance drones designed to look just like birds<a name=\"lorenz\"></a>[<sup>[1]</sup>](#lorenznote). Use a minimum of 2 or 3 citations, but we prefer more <a name=\"admonish\"></a>[<sup>[2]</sup>](#admonishnote). You need enough citations to fully explain and back up important facts. \n",
    "\n",
    "Remeber you are trying to explain why someone would want to answer your question or why your hypothesis is in the form that you've stated. "
   ]
  },
  {
   "cell_type": "markdown",
   "metadata": {},
   "source": [
    "# Problem Statement\n",
    "\n",
    "Clearly describe the problem that you are solving. Avoid ambiguous words. The problem described should be well defined and should have at least one ML-relevant potential solution. Additionally, describe the problem thoroughly such that it is clear that the problem is quantifiable (the problem can be expressed in mathematical or logical terms), measurable (the problem can be measured by some metric and clearly observed), and replicable (the problem can be reproduced and occurs more than once)."
   ]
  },
  {
   "cell_type": "markdown",
   "metadata": {},
   "source": [
    "# Data\n",
    "\n",
    "Detail how/where you obtained the data and cleaned it (if necessary)\n",
    "\n",
    "If the data cleaning process is very long (e.g., elaborate text processing) consider describing it briefly here in text, and moving the actual clearning process to another notebook in your repo (include a link here!).  The idea behind this approach: this is a report, and if you blow up the flow of the report to include a lot of code it makes it hard to read.\n",
    "\n",
    "Please give the following infomration for each dataset you are using\n",
    "- link/reference to obtain it\n",
    "- description of the size of the dataset (# of variables, # of observations)\n",
    "- what an observation consists of\n",
    "- what some critical variables are, how they are represented\n",
    "- any special handling, transformations, cleaning, etc you have done should be demonstrated here!\n"
   ]
  },
  {
   "cell_type": "code",
   "execution_count": 46,
   "metadata": {},
   "outputs": [
    {
     "data": {
      "text/plain": [
       "'\\nquick notes for future me\\n\\nthe labels are broken up into 0-25, one for each letter of the alphabet\\n\\ntraining data has 27,455 cases, test data has 7,172 cases\\n\\n'"
      ]
     },
     "execution_count": 46,
     "metadata": {},
     "output_type": "execute_result"
    }
   ],
   "source": [
    "# IMPORT LIBRARIES AND QUICK INFO, IMPLEMENTATION OF FUNCTIONS\n",
    "\n",
    "# stolen from notebook L07 and gpt stuff\n",
    "# import stuff\n",
    "\n",
    "import numpy as np\n",
    "import pandas as pd\n",
    "import matplotlib.pyplot as plt\n",
    "from sklearn.mixture import GaussianMixture\n",
    "from sklearn.model_selection import train_test_split\n",
    "from sklearn.model_selection import GridSearchCV\n",
    "from sklearn.preprocessing import StandardScaler\n",
    "from sklearn.metrics import accuracy_score\n",
    "from sklearn.metrics import silhouette_score\n",
    "from sklearn.metrics import rand_score, adjusted_rand_score\n",
    "from scipy import stats\n",
    "\n",
    "def gmm_bic_score(estimator, X):\n",
    "    \"\"\"Callable to pass to GridSearchCV that will use the BIC score.\"\"\"\n",
    "    # Make it negative since GridSearchCV expects a score to maximize\n",
    "    return -estimator.bic(X)\n",
    "\n",
    "'''\n",
    "quick notes for future me\n",
    "\n",
    "the labels are broken up into 0-25, one for each letter of the alphabet\n",
    "\n",
    "training data has 27,455 cases, test data has 7,172 cases\n",
    "\n",
    "'''\n"
   ]
  },
  {
   "cell_type": "code",
   "execution_count": 47,
   "metadata": {},
   "outputs": [
    {
     "name": "stdout",
     "output_type": "stream",
     "text": [
      "train_data.shape is (27455, 785)\n",
      "test_data.shape is (7172, 785)\n",
      "true_labels.shape is (7172,)\n",
      "train_labels.shape is (27455,)\n"
     ]
    }
   ],
   "source": [
    "# ESTABLISH DATA\n",
    "\n",
    "train_data = pd.read_csv(\"data/sign_mnist_train.csv\")\n",
    "test_data = pd.read_csv(\"data/sign_mnist_test.csv\")\n",
    "true_labels = test_data['label']\n",
    "train_labels = train_data['label']\n",
    "\n",
    "print(f\"train_data.shape is {train_data.shape}\")\n",
    "print(f\"test_data.shape is {test_data.shape}\")\n",
    "print(f\"true_labels.shape is {true_labels.shape}\")\n",
    "print(f\"train_labels.shape is {train_labels.shape}\")"
   ]
  },
  {
   "cell_type": "code",
   "execution_count": 74,
   "metadata": {},
   "outputs": [],
   "source": [
    "# separate labels, data\n",
    "gmm_pred = pd.DataFrame(columns = ['true', 'pred'])\n",
    "gmm_pred['true'] = train_labels\n",
    "\n",
    "predict_data = train_data.drop(['label'], axis=1)\n",
    "true_data = test_data.drop(['label'], axis=1)"
   ]
  },
  {
   "cell_type": "code",
   "execution_count": null,
   "metadata": {},
   "outputs": [],
   "source": [
    "# fit data\n",
    "gmm = GaussianMixture(n_components=5predict_data, random_state=42)\n",
    "gmm.fit(predict_data)"
   ]
  },
  {
   "cell_type": "code",
   "execution_count": 75,
   "metadata": {},
   "outputs": [],
   "source": [
    "# make prediction\n",
    "gmm_pred['pred'] = gmm.predict(predict_data)"
   ]
  },
  {
   "cell_type": "code",
   "execution_count": 76,
   "metadata": {},
   "outputs": [
    {
     "name": "stdout",
     "output_type": "stream",
     "text": [
      "gmm_pred.shape is (27455, 2)\n",
      "predict_data.shape is (27455, 784)\n",
      "true_data.shape is (7172, 784)\n",
      "gmm_pred.shape is (27455, 2)\n",
      "gmm_pred['true'].shape is (27455,)\n",
      "gmm_pred['pred'].shape is (27455,)\n"
     ]
    }
   ],
   "source": [
    "print(f\"gmm_pred.shape is {gmm_pred.shape}\")\n",
    "print(f\"predict_data.shape is {predict_data.shape}\")\n",
    "print(f\"true_data.shape is {true_data.shape}\")\n",
    "print(f\"gmm_pred.shape is {gmm_pred.shape}\")\n",
    "print(f\"gmm_pred['true'].shape is {gmm_pred['true'].shape}\")\n",
    "print(f\"gmm_pred['pred'].shape is {gmm_pred['pred'].shape}\")"
   ]
  },
  {
   "cell_type": "code",
   "execution_count": 77,
   "metadata": {},
   "outputs": [
    {
     "name": "stdout",
     "output_type": "stream",
     "text": [
      "Adjusted Rand Score: 0.013790053266229224\n",
      "Non-Adjusted Rand Score: 0.5965855502909275\n"
     ]
    }
   ],
   "source": [
    "# calculate adjusted/non-adjusted rand index, silhouette coefficient, BIC, AIC\n",
    "adjusted_rand = adjusted_rand_score(gmm_pred['true'], gmm_pred['pred'])\n",
    "non_adjusted_rand = rand_score(gmm_pred['true'], gmm_pred['pred'])\n",
    "\n",
    "print(\"Adjusted Rand Score:\", adjusted_rand)\n",
    "print(\"Non-Adjusted Rand Score:\", non_adjusted_rand)"
   ]
  },
  {
   "cell_type": "markdown",
   "metadata": {},
   "source": [
    "While our non-adjusted Rand Score looks great for GMM, the Adjusted Rand Score is, frankly, atrocious. Considering that our ARI is near 0, the labeling may as well be random. "
   ]
  },
  {
   "cell_type": "code",
   "execution_count": 78,
   "metadata": {},
   "outputs": [
    {
     "name": "stdout",
     "output_type": "stream",
     "text": [
      "130911446.06818749\n"
     ]
    }
   ],
   "source": [
    "# calculate BIC\n",
    "bic = gmm.bic(predict_data) # i'm too lazy to import it directly\n",
    "print(bic)"
   ]
  },
  {
   "cell_type": "markdown",
   "metadata": {},
   "source": [
    "As a recap, let's recall the BIC and AIC formulas: AIC is equal to $2k - 2\\ln(L)$ while BIC is equal to $k \\ln (n) - 2 \\ln (L)$. As can be seen, BIC takes into account how many data points/observations one is using, in the form of $n$. Both, however, follow the same rule of lower being better.\n",
    "\n",
    "Regarding our BIC value, it appears to be extremely high, being nine digits long. As such, we can come to the conclusion that the there are far higher penalty terms, and that the current GMM doesn't fit the original data all too well."
   ]
  },
  {
   "cell_type": "code",
   "execution_count": 79,
   "metadata": {},
   "outputs": [
    {
     "name": "stdout",
     "output_type": "stream",
     "text": [
      "123303440.02091302\n"
     ]
    }
   ],
   "source": [
    "# calculate AIC \n",
    "aic = gmm.aic(predict_data)\n",
    "print(aic)"
   ]
  },
  {
   "cell_type": "code",
   "execution_count": 80,
   "metadata": {},
   "outputs": [
    {
     "name": "stdout",
     "output_type": "stream",
     "text": [
      "0.06969416412690102\n"
     ]
    }
   ],
   "source": [
    "# calculate silhouette coefficient\n",
    "\n",
    "# gonna be non-predicted data, then predicted data\n",
    "silhouette = silhouette_score(predict_data, gmm_pred['pred'])\n",
    "\n",
    "print(silhouette)"
   ]
  },
  {
   "cell_type": "code",
   "execution_count": 82,
   "metadata": {},
   "outputs": [
    {
     "data": {
      "image/png": "[encoded data removed]",
      "text/plain": [
       "<Figure size 720x432 with 1 Axes>"
      ]
     },
     "metadata": {
      "needs_background": "light"
     },
     "output_type": "display_data"
    },
    {
     "data": {
      "image/png": "[encoded data removed]",
      "text/plain": [
       "<Figure size 720x432 with 1 Axes>"
      ]
     },
     "metadata": {
      "needs_background": "light"
     },
     "output_type": "display_data"
    }
   ],
   "source": [
    "\n",
    "# testing with elbow/silhouette methods\n",
    "\n",
    "# Initialize lists to store BIC scores and silhouette scores\n",
    "bic_scores = []\n",
    "silhouette_scores = []\n",
    "components_range = [5, 10, 15, 25, 26]  # Range of components to try\n",
    "\n",
    "# Iterate over different number of components\n",
    "for n_components in components_range:\n",
    "    # Initialize Gaussian Mixture Model\n",
    "    gmm = GaussianMixture(n_components=n_components, random_state=42)\n",
    "    \n",
    "    # Fit the model\n",
    "    gmm.fit(predict_data)\n",
    "    \n",
    "    # Calculate BIC score\n",
    "    bic = gmm.bic(predict_data)\n",
    "    bic_scores.append(bic)\n",
    "    \n",
    "    # Calculate silhouette score (optional)\n",
    "    # Note: Silhouette score may not be applicable for high-dimensional data\n",
    "    silhouette = silhouette_score(predict_data, gmm.predict(predict_data))\n",
    "    silhouette_scores.append(silhouette)\n",
    "\n",
    "# Plot the BIC scores\n",
    "plt.figure(figsize=(10, 6))\n",
    "plt.plot(components_range, bic_scores, marker='o', linestyle='-', color='b')\n",
    "plt.xlabel('Number of Components')\n",
    "plt.ylabel('BIC Score')\n",
    "plt.title('BIC Score vs. Number of Components')\n",
    "plt.grid(True)\n",
    "plt.show()\n",
    "\n",
    "# Plot the silhouette scores (optional)\n",
    "plt.figure(figsize=(10, 6))\n",
    "plt.plot(components_range, silhouette_scores, marker='o', linestyle='-', color='r')\n",
    "plt.xlabel('Number of Components')\n",
    "plt.ylabel('Silhouette Score')\n",
    "plt.title('Silhouette Score vs. Number of Components')\n",
    "plt.grid(True)\n",
    "plt.show()\n"
   ]
  },
  {
   "cell_type": "code",
   "execution_count": null,
   "metadata": {},
   "outputs": [],
   "source": []
  }
 ],
 "metadata": {
  "kernelspec": {
   "display_name": "Python 3 (ipykernel)",
   "language": "python",
   "name": "python3"
  },
  "language_info": {
   "codemirror_mode": {
    "name": "ipython",
    "version": 3
   },
   "file_extension": ".py",
   "mimetype": "text/x-python",
   "name": "python",
   "nbconvert_exporter": "python",
   "pygments_lexer": "ipython3",
   "version": "3.9.5"
  }
 },
 "nbformat": 4,
 "nbformat_minor": 2
}
